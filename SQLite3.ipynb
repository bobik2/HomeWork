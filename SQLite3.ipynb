{
 "cells": [
  {
   "cell_type": "code",
   "execution_count": 52,
   "id": "bc85e6b8",
   "metadata": {},
   "outputs": [],
   "source": [
    "import sqlite3"
   ]
  },
  {
   "cell_type": "code",
   "execution_count": 53,
   "id": "aa3a42e2",
   "metadata": {},
   "outputs": [
    {
     "name": "stderr",
     "output_type": "stream",
     "text": [
      "Џ®¤Ї ЇЄ  Ё«Ё д ©« -p г¦Ґ бгйҐбвўгҐв.\n",
      "ЋиЁЎЄ  ў® ўаҐ¬п ®Ўа Ў®вЄЁ: -p.\n",
      "Џ®¤Ї ЇЄ  Ё«Ё д ©« databases г¦Ґ бгйҐбвўгҐв.\n",
      "ЋиЁЎЄ  ў® ўаҐ¬п ®Ўа Ў®вЄЁ: databases.\n"
     ]
    }
   ],
   "source": [
    "! mkdir -p databases"
   ]
  },
  {
   "cell_type": "code",
   "execution_count": 54,
   "id": "9dd1d7a4",
   "metadata": {},
   "outputs": [],
   "source": [
    "DB_PATH = \"databases/test8.db\""
   ]
  },
  {
   "cell_type": "code",
   "execution_count": 55,
   "id": "f5716c80",
   "metadata": {},
   "outputs": [],
   "source": [
    "connection = sqlite3.connect(DB_PATH)"
   ]
  },
  {
   "cell_type": "code",
   "execution_count": 56,
   "id": "ba96409d",
   "metadata": {},
   "outputs": [
    {
     "data": {
      "text/plain": [
       "<sqlite3.Cursor at 0x1ecbdd0d030>"
      ]
     },
     "execution_count": 56,
     "metadata": {},
     "output_type": "execute_result"
    }
   ],
   "source": [
    "cursor = connection.cursor()\n",
    "\n",
    "cursor.execute('''\n",
    "    CREATE TABLE Books(\n",
    "        id REAL,\n",
    "        author TEXT,\n",
    "        title TEXT,\n",
    "        publish_year REAL\n",
    "    );\n",
    "''')\n",
    "\n",
    "cursor.execute('''\n",
    "    CREATE TABLE Readers(\n",
    "        id REAL,\n",
    "        name TEXT\n",
    "    );\n",
    "''')\n",
    "\n",
    "cursor.execute('''\n",
    "    CREATE TABLE Records(\n",
    "        reader_id REAL,\n",
    "        book_id REAL,\n",
    "        taking_date TEXT,\n",
    "        returning_date TEXT\n",
    "    );\n",
    "''')"
   ]
  },
  {
   "cell_type": "code",
   "execution_count": 57,
   "id": "cca435a7",
   "metadata": {},
   "outputs": [],
   "source": [
    "\n",
    "cursor.execute('''\n",
    "    INSERT INTO Books VALUES\n",
    "        (1, 'Аркадий Неминов', 'Приключения котёнка Пуха', 2001),\n",
    "        (2, 'Анна Кирова', 'Приключения кота - оптимиста Марсика', 2002),\n",
    "        (3, 'Павел Линицкий', 'Такса Клякса и волшебная флейта', 2008),\n",
    "        (4, 'Irka Writer', 'Васька и мышка', 2015);\n",
    "''')\n",
    "\n",
    "cursor.execute('''\n",
    "    INSERT INTO Readers VALUES\n",
    "        (12, 'Андрей'),\n",
    "        (22, 'Михаил'),\n",
    "        (32, 'Виталий'),\n",
    "        (42, 'Татьяна');\n",
    "''')\n",
    "\n",
    "cursor.execute('''\n",
    "    INSERT INTO Records VALUES\n",
    "        (12, 1, '11.12.13', '13.14.14'),\n",
    "        (22, 2, '14.03.15', '27.05.15'),\n",
    "        (32, 3, '30.01.16', '30.01.17'),\n",
    "        (42, 4, '13.11.17', '13.11.19');\n",
    "''')\n",
    "\n",
    "\n",
    "\n",
    "\n",
    "connection.commit()\n",
    "connection.close()"
   ]
  },
  {
   "cell_type": "code",
   "execution_count": 58,
   "id": "1e718ca8",
   "metadata": {},
   "outputs": [],
   "source": [
    "class Library():\n",
    "    \"\"\"docstring\"\"\"\n",
    " \n",
    "    def __init__(self, Books, Readers, Records):\n",
    "        \"\"\"Constructor\"\"\"\n",
    "        self.Books = Books\n",
    "        self.Readers = Readers\n",
    "        self.Records = Records\n",
    "    \n",
    "    def add_reader(self, person): #Добавить читателя.\n",
    "        \n",
    "        connection = sqlite3.connect(DB_PATH)\n",
    "        cursor = connection.cursor()\n",
    "\n",
    "        connection.executemany(\n",
    "            \"INSERT INTO Readers VALUES (?, ?)\",\n",
    "            person\n",
    "        )\n",
    "\n",
    "        connection.commit()\n",
    "        return \n",
    "    def add_book(self, book): #Добавить книгу.\n",
    "        \n",
    "        # example_book = [(10, 'Harry Potter and the Philosopher''s Stone', 'J. K. Rowling', 1997)]\n",
    "        connection = sqlite3.connect(DB_PATH)\n",
    "        cursor = connection.cursor()\n",
    "\n",
    "        connection.executemany(\n",
    "            \"INSERT INTO Books VALUES (?, ?, ?, ?)\",\n",
    "            book\n",
    "        )\n",
    "        connection.commit()\n",
    "        return \n",
    "    \n",
    "    def view_readers(self): #Вывести список читателей.\n",
    "        \n",
    "        connection = sqlite3.connect(DB_PATH)\n",
    "        cursor = connection.cursor()\n",
    "\n",
    "        for name in cursor.execute(\"SELECT name FROM Readers;\"):\n",
    "            print(name)\n",
    "        connection.commit()\n",
    "        \n",
    "    def view_books(self): #Вывести список книг.\n",
    "        \n",
    "        connection = sqlite3.connect(DB_PATH)\n",
    "        cursor = connection.cursor()\n",
    "\n",
    "        for title in cursor.execute(\"SELECT title FROM Books;\"):\n",
    "            print(title)\n",
    "        connection.commit()\n",
    "        \n",
    "    def add_record(self, record): #Выдать книгу читателю.\n",
    "        # example_record = [(1,12, '27.03.2022', '27.05.2022')]\n",
    "        connection = sqlite3.connect(DB_PATH)\n",
    "        cursor = connection.cursor()\n",
    "\n",
    "        connection.executemany(\n",
    "            \"INSERT INTO Records VALUES (?, ?, ?, ?)\",\n",
    "            record\n",
    "        )\n",
    "        connection.commit()\n",
    "        \n",
    "    def delete_record(self, idx): #Принять книгу.\n",
    "        \n",
    "        connection = sqlite3.connect(DB_PATH)\n",
    "        cursor = connection.cursor()\n",
    "        #idx = [(2)]\n",
    "        cursor.execute(\n",
    "            \"DELETE FROM Records WHERE book_id = (?);\",\n",
    "            idx\n",
    "            )\n",
    "\n",
    "        connection.commit()"
   ]
  },
  {
   "cell_type": "code",
   "execution_count": 59,
   "id": "58a26813",
   "metadata": {},
   "outputs": [],
   "source": [
    "Library.add_reader(self = Library, person =[(21,'Dude')])"
   ]
  },
  {
   "cell_type": "code",
   "execution_count": 60,
   "id": "1aac8c9b",
   "metadata": {},
   "outputs": [
    {
     "name": "stdout",
     "output_type": "stream",
     "text": [
      "('Андрей',)\n",
      "('Михаил',)\n",
      "('Виталий',)\n",
      "('Татьяна',)\n",
      "('Dude',)\n"
     ]
    }
   ],
   "source": [
    "Library.view_readers(self = Library)"
   ]
  },
  {
   "cell_type": "code",
   "execution_count": 61,
   "id": "118ee570",
   "metadata": {},
   "outputs": [],
   "source": [
    "Library.add_book(self = Library, book = [(10, 'Harry Potter and the Philosopher''s Stone', 'J. K. Rowling', 1997)])"
   ]
  },
  {
   "cell_type": "code",
   "execution_count": 62,
   "id": "35480bd4",
   "metadata": {},
   "outputs": [
    {
     "name": "stdout",
     "output_type": "stream",
     "text": [
      "('Приключения котёнка Пуха',)\n",
      "('Приключения кота - оптимиста Марсика',)\n",
      "('Такса Клякса и волшебная флейта',)\n",
      "('Васька и мышка',)\n",
      "('J. K. Rowling',)\n"
     ]
    }
   ],
   "source": [
    "Library.view_books(self = Library)"
   ]
  },
  {
   "cell_type": "code",
   "execution_count": 63,
   "id": "fe333aa2",
   "metadata": {},
   "outputs": [],
   "source": [
    "Library.add_record(self = Library, record = [(1,12, '27.03.2022', '27.05.2022')])"
   ]
  },
  {
   "cell_type": "code",
   "execution_count": 64,
   "id": "18cfed31",
   "metadata": {},
   "outputs": [
    {
     "name": "stdout",
     "output_type": "stream",
     "text": [
      "(12.0, 1.0, '11.12.13', '13.14.14')\n",
      "(22.0, 2.0, '14.03.15', '27.05.15')\n",
      "(32.0, 3.0, '30.01.16', '30.01.17')\n",
      "(42.0, 4.0, '13.11.17', '13.11.19')\n",
      "(1.0, 12.0, '27.03.2022', '27.05.2022')\n"
     ]
    }
   ],
   "source": [
    "connection = sqlite3.connect(DB_PATH)\n",
    "cursor = connection.cursor()\n",
    "for row in cursor.execute(\"SELECT * FROM Records;\"):\n",
    "    print(row)\n",
    "\n",
    "connection.commit()"
   ]
  },
  {
   "cell_type": "code",
   "execution_count": 65,
   "id": "692f49de",
   "metadata": {},
   "outputs": [],
   "source": [
    "Library.delete_record(self = Library, idx = [(2)])"
   ]
  },
  {
   "cell_type": "code",
   "execution_count": 66,
   "id": "69091072",
   "metadata": {},
   "outputs": [
    {
     "name": "stdout",
     "output_type": "stream",
     "text": [
      "(12.0, 1.0, '11.12.13', '13.14.14')\n",
      "(32.0, 3.0, '30.01.16', '30.01.17')\n",
      "(42.0, 4.0, '13.11.17', '13.11.19')\n",
      "(1.0, 12.0, '27.03.2022', '27.05.2022')\n"
     ]
    }
   ],
   "source": [
    "connection = sqlite3.connect(DB_PATH)\n",
    "cursor = connection.cursor()\n",
    "for row in cursor.execute(\"SELECT * FROM Records;\"):\n",
    "    print(row)\n",
    "\n",
    "connection.commit()"
   ]
  }
 ],
 "metadata": {
  "kernelspec": {
   "display_name": "Python 3 (ipykernel)",
   "language": "python",
   "name": "python3"
  },
  "language_info": {
   "codemirror_mode": {
    "name": "ipython",
    "version": 3
   },
   "file_extension": ".py",
   "mimetype": "text/x-python",
   "name": "python",
   "nbconvert_exporter": "python",
   "pygments_lexer": "ipython3",
   "version": "3.9.7"
  }
 },
 "nbformat": 4,
 "nbformat_minor": 5
}
