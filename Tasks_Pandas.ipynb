{
 "cells": [
  {
   "cell_type": "markdown",
   "metadata": {},
   "source": [
    "# Задача 1"
   ]
  },
  {
   "cell_type": "code",
   "execution_count": 118,
   "metadata": {},
   "outputs": [
    {
     "name": "stdout",
     "output_type": "stream",
     "text": [
      "4 6\n",
      "1  4  4  2  1  1\n",
      "0  0  1  0 -1 -1\n",
      "-2 -3 -1 -5 -6 -4\n",
      "-1 -3 -3 -4 -4 -2\n",
      "1\n",
      "40\n",
      "4\n"
     ]
    }
   ],
   "source": [
    "import numpy as np\n",
    "import pandas as pd\n",
    "\n",
    "N, M = map(int, (input().split()))\n",
    "map_data = [np.array(((input().split())), dtype = int) for _ in range(N)]\n",
    "df = pd.DataFrame(map_data)\n",
    "\n",
    "print(((df < -5).astype(int)).values.sum())\n",
    "print(int(df[df < 0].fillna(0).values.sum())*(-1))\n",
    "print(df.values.max())"
   ]
  },
  {
   "cell_type": "markdown",
   "metadata": {},
   "source": [
    "# Задача 2"
   ]
  },
  {
   "cell_type": "markdown",
   "metadata": {},
   "source": [
    "_Честно, не очень понял, где здесь надо использовать pandas. Даже датафрейм нормальный создавать смысла особого нет, всё же через numpy делается достаточно просто и быстро._"
   ]
  },
  {
   "cell_type": "code",
   "execution_count": 115,
   "metadata": {},
   "outputs": [
    {
     "name": "stdout",
     "output_type": "stream",
     "text": [
      "/Users/serik/Desktop/Matrix_A.txt\n",
      "/Users/serik/Desktop/Column_b.txt\n",
      "0.5 0.1 0.5\n",
      "0.0275\n"
     ]
    }
   ],
   "source": [
    "# Пример выполнения ниже: в качестве матрицы А и векторов b и X взят пример из контеста\n",
    "string_mat = input()\n",
    "string_col = input()\n",
    "X = input()\n",
    "with open(string_mat) as A, open(string_col) as b:\n",
    "    matrix_A = np.array([np.array((line.split()), dtype = float) for line in A])\n",
    "    column_b = np.array([np.array((line.split()), dtype = float) for line in b]).T\n",
    "    matrix_A2 = matrix_A @ matrix_A\n",
    "    vector_X = np.array([np.array((X.split()), dtype = float)])\n",
    "    print(round((vector_X @ matrix_A2 @ column_b)[0][0], 17)) # для борьбы с машинным эпсилон"
   ]
  },
  {
   "cell_type": "markdown",
   "metadata": {},
   "source": [
    "# Задача 3\n"
   ]
  },
  {
   "cell_type": "code",
   "execution_count": 277,
   "metadata": {},
   "outputs": [
    {
     "name": "stdout",
     "output_type": "stream",
     "text": [
      "            name  mean_rating\n",
      " Darkest Dungeon        9.000\n",
      "          XCOM 2        8.867\n",
      "  Civilization V        8.333\n",
      " company  rating_sum\n",
      " Firaxis        17.2\n"
     ]
    }
   ],
   "source": [
    "#games_file = input()\n",
    "df_games = pd.read_csv('/Users/serik/games001.csv', sep=';')\n",
    "df_rates =  pd.read_csv('/Users/serik/rates001.csv', sep=';')\n",
    "\n",
    "df = df_games.copy() \n",
    "\n",
    "df['mean_rating'] = [round(df_rates[(df_rates['id'] == id)]['mark'].mean(), 3) for id in df['id']]\n",
    "df1 = df.sort_values(by ='mean_rating', ascending=False).iloc[0:3][['name', 'mean_rating']].to_string(index=False)\n",
    "print(df1)\n",
    "\n",
    "df['rating_sum'] = [df[df['company'] == company]['mean_rating'].sum() for company in df['company']]\n",
    "df2 = df.sort_values(by ='rating_sum', ascending=False).iloc[0:1][['company', 'rating_sum']].to_string(index=False)\n",
    "print(df2)"
   ]
  },
  {
   "cell_type": "markdown",
   "metadata": {},
   "source": [
    "_Выше представлен вывод в виде таблиц, думаю, так нагляднее._"
   ]
  }
 ],
 "metadata": {
  "kernelspec": {
   "display_name": "Python 3 (ipykernel)",
   "language": "python",
   "name": "python3"
  },
  "language_info": {
   "codemirror_mode": {
    "name": "ipython",
    "version": 3
   },
   "file_extension": ".py",
   "mimetype": "text/x-python",
   "name": "python",
   "nbconvert_exporter": "python",
   "pygments_lexer": "ipython3",
   "version": "3.9.7"
  }
 },
 "nbformat": 4,
 "nbformat_minor": 4
}
